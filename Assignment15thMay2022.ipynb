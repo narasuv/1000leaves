{
 "cells": [
  {
   "cell_type": "code",
   "execution_count": null,
   "id": "48809ebe",
   "metadata": {},
   "outputs": [],
   "source": [
    "1 . Try to extract data from index one to index 300 with a jump of 3 "
   ]
  },
  {
   "cell_type": "code",
   "execution_count": 1,
   "id": "57f872b0",
   "metadata": {},
   "outputs": [],
   "source": [
    "s = \"this is My First Python programming class and i am learNING python string and its function\""
   ]
  },
  {
   "cell_type": "code",
   "execution_count": 2,
   "id": "182204c9",
   "metadata": {},
   "outputs": [
    {
     "data": {
      "text/plain": [
       "'h   r tnrrmglsnimeNGyosi dtfco'"
      ]
     },
     "execution_count": 2,
     "metadata": {},
     "output_type": "execute_result"
    }
   ],
   "source": [
    "s[1:300:3]"
   ]
  },
  {
   "cell_type": "code",
   "execution_count": null,
   "id": "3f50e33d",
   "metadata": {},
   "outputs": [],
   "source": []
  },
  {
   "cell_type": "code",
   "execution_count": null,
   "id": "3ef4b21e",
   "metadata": {},
   "outputs": [],
   "source": [
    "2. Try to reverse a string without using reverse function"
   ]
  },
  {
   "cell_type": "code",
   "execution_count": 4,
   "id": "46c4f495",
   "metadata": {},
   "outputs": [],
   "source": [
    "s=\"abcdef\""
   ]
  },
  {
   "cell_type": "code",
   "execution_count": 5,
   "id": "944da8bb",
   "metadata": {},
   "outputs": [
    {
     "data": {
      "text/plain": [
       "'fedcba'"
      ]
     },
     "execution_count": 5,
     "metadata": {},
     "output_type": "execute_result"
    }
   ],
   "source": [
    "s[::-1]"
   ]
  },
  {
   "cell_type": "code",
   "execution_count": null,
   "id": "152c6f64",
   "metadata": {},
   "outputs": [],
   "source": []
  },
  {
   "cell_type": "code",
   "execution_count": null,
   "id": "56000dd5",
   "metadata": {},
   "outputs": [],
   "source": [
    "3. Try to split a string after conversion of entire string in uppercase"
   ]
  },
  {
   "cell_type": "code",
   "execution_count": 6,
   "id": "b1ed83db",
   "metadata": {},
   "outputs": [],
   "source": [
    "s=\"abcdef\""
   ]
  },
  {
   "cell_type": "code",
   "execution_count": 7,
   "id": "c0c92659",
   "metadata": {},
   "outputs": [
    {
     "data": {
      "text/plain": [
       "'ABCDEF'"
      ]
     },
     "execution_count": 7,
     "metadata": {},
     "output_type": "execute_result"
    }
   ],
   "source": [
    "s.upper()"
   ]
  },
  {
   "cell_type": "code",
   "execution_count": 8,
   "id": "51793b88",
   "metadata": {},
   "outputs": [],
   "source": [
    "s=\"a\\tb\\tc\\td\\te\\tf\""
   ]
  },
  {
   "cell_type": "code",
   "execution_count": 9,
   "id": "0c9bb570",
   "metadata": {},
   "outputs": [
    {
     "data": {
      "text/plain": [
       "['a', 'b', 'c', 'd', 'e', 'f']"
      ]
     },
     "execution_count": 9,
     "metadata": {},
     "output_type": "execute_result"
    }
   ],
   "source": [
    "s.split(\"\\t\")"
   ]
  },
  {
   "cell_type": "code",
   "execution_count": 10,
   "id": "b1498181",
   "metadata": {},
   "outputs": [],
   "source": [
    "s=\"need\\ttest\\tstring\""
   ]
  },
  {
   "cell_type": "code",
   "execution_count": 11,
   "id": "181cda5b",
   "metadata": {},
   "outputs": [
    {
     "data": {
      "text/plain": [
       "'NEED\\tTEST\\tSTRING'"
      ]
     },
     "execution_count": 11,
     "metadata": {},
     "output_type": "execute_result"
    }
   ],
   "source": [
    "s.upper()"
   ]
  },
  {
   "cell_type": "code",
   "execution_count": 12,
   "id": "0c79c3b5",
   "metadata": {},
   "outputs": [
    {
     "data": {
      "text/plain": [
       "['need', 'test', 'string']"
      ]
     },
     "execution_count": 12,
     "metadata": {},
     "output_type": "execute_result"
    }
   ],
   "source": [
    "s.split(\"\\t\")"
   ]
  },
  {
   "cell_type": "code",
   "execution_count": null,
   "id": "31492ac3",
   "metadata": {},
   "outputs": [],
   "source": []
  },
  {
   "cell_type": "code",
   "execution_count": null,
   "id": "670235c6",
   "metadata": {},
   "outputs": [],
   "source": [
    "4. try to convert the whole string into lower case"
   ]
  },
  {
   "cell_type": "code",
   "execution_count": 14,
   "id": "9714a241",
   "metadata": {},
   "outputs": [],
   "source": [
    "s=\"NEED TO CHECK\""
   ]
  },
  {
   "cell_type": "code",
   "execution_count": 15,
   "id": "56afdb65",
   "metadata": {},
   "outputs": [
    {
     "data": {
      "text/plain": [
       "'need to check'"
      ]
     },
     "execution_count": 15,
     "metadata": {},
     "output_type": "execute_result"
    }
   ],
   "source": [
    "s.lower()"
   ]
  },
  {
   "cell_type": "code",
   "execution_count": null,
   "id": "2d9ec138",
   "metadata": {},
   "outputs": [],
   "source": []
  },
  {
   "cell_type": "code",
   "execution_count": null,
   "id": "63ced878",
   "metadata": {},
   "outputs": [],
   "source": [
    "5 . Try to capitalize the whole string"
   ]
  },
  {
   "cell_type": "code",
   "execution_count": 16,
   "id": "906beb60",
   "metadata": {},
   "outputs": [],
   "source": [
    "s=\"abcd efg hijklmno\""
   ]
  },
  {
   "cell_type": "code",
   "execution_count": 17,
   "id": "54792f0b",
   "metadata": {},
   "outputs": [
    {
     "data": {
      "text/plain": [
       "'Abcd efg hijklmno'"
      ]
     },
     "execution_count": 17,
     "metadata": {},
     "output_type": "execute_result"
    }
   ],
   "source": [
    "s.capitalize()"
   ]
  },
  {
   "cell_type": "code",
   "execution_count": null,
   "id": "68897254",
   "metadata": {},
   "outputs": [],
   "source": []
  },
  {
   "cell_type": "code",
   "execution_count": null,
   "id": "ec1ffbb9",
   "metadata": {},
   "outputs": [],
   "source": [
    "6 . Write a diference between isalnum() and isalpha()"
   ]
  },
  {
   "cell_type": "code",
   "execution_count": null,
   "id": "561e8742",
   "metadata": {},
   "outputs": [],
   "source": [
    "isalnum() ->it will check the given string is alphabet/number"
   ]
  },
  {
   "cell_type": "code",
   "execution_count": null,
   "id": "a5fb3bcb",
   "metadata": {},
   "outputs": [],
   "source": [
    "isalpha()  -> It will check the given string is alphabet"
   ]
  },
  {
   "cell_type": "code",
   "execution_count": null,
   "id": "6802d415",
   "metadata": {},
   "outputs": [],
   "source": []
  },
  {
   "cell_type": "code",
   "execution_count": 18,
   "id": "efd559f3",
   "metadata": {},
   "outputs": [],
   "source": [
    "s=\"need to check\""
   ]
  },
  {
   "cell_type": "code",
   "execution_count": 19,
   "id": "0c443a7a",
   "metadata": {},
   "outputs": [
    {
     "data": {
      "text/plain": [
       "False"
      ]
     },
     "execution_count": 19,
     "metadata": {},
     "output_type": "execute_result"
    }
   ],
   "source": [
    "s.isalnum()"
   ]
  },
  {
   "cell_type": "code",
   "execution_count": 20,
   "id": "d77c23e1",
   "metadata": {},
   "outputs": [
    {
     "data": {
      "text/plain": [
       "False"
      ]
     },
     "execution_count": 20,
     "metadata": {},
     "output_type": "execute_result"
    }
   ],
   "source": [
    "s.isalpha()"
   ]
  },
  {
   "cell_type": "code",
   "execution_count": 21,
   "id": "5e028c31",
   "metadata": {},
   "outputs": [],
   "source": [
    "s=\"needtocheck\""
   ]
  },
  {
   "cell_type": "code",
   "execution_count": 22,
   "id": "2a8350f2",
   "metadata": {},
   "outputs": [
    {
     "data": {
      "text/plain": [
       "True"
      ]
     },
     "execution_count": 22,
     "metadata": {},
     "output_type": "execute_result"
    }
   ],
   "source": [
    "s.isalnum()"
   ]
  },
  {
   "cell_type": "code",
   "execution_count": 23,
   "id": "ad3082a8",
   "metadata": {},
   "outputs": [
    {
     "data": {
      "text/plain": [
       "True"
      ]
     },
     "execution_count": 23,
     "metadata": {},
     "output_type": "execute_result"
    }
   ],
   "source": [
    "s.isalpha()"
   ]
  },
  {
   "cell_type": "code",
   "execution_count": 24,
   "id": "ba23d2bf",
   "metadata": {},
   "outputs": [],
   "source": [
    "s=\"12345\""
   ]
  },
  {
   "cell_type": "code",
   "execution_count": 25,
   "id": "3bdb77d5",
   "metadata": {},
   "outputs": [
    {
     "data": {
      "text/plain": [
       "False"
      ]
     },
     "execution_count": 25,
     "metadata": {},
     "output_type": "execute_result"
    }
   ],
   "source": [
    "s.isalpha()"
   ]
  },
  {
   "cell_type": "code",
   "execution_count": 26,
   "id": "0d1b64e2",
   "metadata": {},
   "outputs": [
    {
     "data": {
      "text/plain": [
       "True"
      ]
     },
     "execution_count": 26,
     "metadata": {},
     "output_type": "execute_result"
    }
   ],
   "source": [
    "s.isalnum()"
   ]
  },
  {
   "cell_type": "code",
   "execution_count": 27,
   "id": "869ea4b0",
   "metadata": {},
   "outputs": [],
   "source": [
    "s=\"123numbers\""
   ]
  },
  {
   "cell_type": "code",
   "execution_count": 28,
   "id": "58f8eade",
   "metadata": {},
   "outputs": [
    {
     "data": {
      "text/plain": [
       "False"
      ]
     },
     "execution_count": 28,
     "metadata": {},
     "output_type": "execute_result"
    }
   ],
   "source": [
    "s.isalpha()"
   ]
  },
  {
   "cell_type": "code",
   "execution_count": 29,
   "id": "240dc770",
   "metadata": {},
   "outputs": [
    {
     "data": {
      "text/plain": [
       "True"
      ]
     },
     "execution_count": 29,
     "metadata": {},
     "output_type": "execute_result"
    }
   ],
   "source": [
    "s.isalnum()"
   ]
  },
  {
   "cell_type": "code",
   "execution_count": null,
   "id": "b3f8e878",
   "metadata": {},
   "outputs": [],
   "source": []
  },
  {
   "cell_type": "code",
   "execution_count": null,
   "id": "7b731999",
   "metadata": {},
   "outputs": [],
   "source": [
    "7. Try to give an example of expand tab"
   ]
  },
  {
   "cell_type": "code",
   "execution_count": null,
   "id": "c5e3b58a",
   "metadata": {},
   "outputs": [],
   "source": [
    "default tab value is 8 "
   ]
  },
  {
   "cell_type": "code",
   "execution_count": 31,
   "id": "01f32bc0",
   "metadata": {},
   "outputs": [],
   "source": [
    "s=\"it\\tis\\tnice\""
   ]
  },
  {
   "cell_type": "code",
   "execution_count": 32,
   "id": "84aa6e52",
   "metadata": {},
   "outputs": [
    {
     "data": {
      "text/plain": [
       "'it      is      nice'"
      ]
     },
     "execution_count": 32,
     "metadata": {},
     "output_type": "execute_result"
    }
   ],
   "source": [
    "s.expandtabs()"
   ]
  },
  {
   "cell_type": "code",
   "execution_count": 33,
   "id": "7131527c",
   "metadata": {},
   "outputs": [
    {
     "data": {
      "text/plain": [
       "'it   is   nice'"
      ]
     },
     "execution_count": 33,
     "metadata": {},
     "output_type": "execute_result"
    }
   ],
   "source": [
    "s.expandtabs(5)"
   ]
  },
  {
   "cell_type": "code",
   "execution_count": null,
   "id": "36e8178c",
   "metadata": {},
   "outputs": [],
   "source": []
  },
  {
   "cell_type": "code",
   "execution_count": null,
   "id": "053f0313",
   "metadata": {},
   "outputs": [],
   "source": [
    "8 . Give an example of strip , lstrip and rstrip"
   ]
  },
  {
   "cell_type": "code",
   "execution_count": 34,
   "id": "a73a08f8",
   "metadata": {},
   "outputs": [],
   "source": [
    "s=\"    what a    class   \""
   ]
  },
  {
   "cell_type": "code",
   "execution_count": 35,
   "id": "9d2196e8",
   "metadata": {},
   "outputs": [
    {
     "data": {
      "text/plain": [
       "'what a    class'"
      ]
     },
     "execution_count": 35,
     "metadata": {},
     "output_type": "execute_result"
    }
   ],
   "source": [
    "s.strip()"
   ]
  },
  {
   "cell_type": "code",
   "execution_count": 36,
   "id": "14111d0d",
   "metadata": {},
   "outputs": [
    {
     "data": {
      "text/plain": [
       "'at a    class'"
      ]
     },
     "execution_count": 36,
     "metadata": {},
     "output_type": "execute_result"
    }
   ],
   "source": [
    "s.strip(' wh')"
   ]
  },
  {
   "cell_type": "code",
   "execution_count": 37,
   "id": "66022c1b",
   "metadata": {},
   "outputs": [
    {
     "data": {
      "text/plain": [
       "'at a    cla'"
      ]
     },
     "execution_count": 37,
     "metadata": {},
     "output_type": "execute_result"
    }
   ],
   "source": [
    "s.strip(' whs')"
   ]
  },
  {
   "cell_type": "code",
   "execution_count": 38,
   "id": "98a50ddd",
   "metadata": {},
   "outputs": [
    {
     "data": {
      "text/plain": [
       "'what a    class   '"
      ]
     },
     "execution_count": 38,
     "metadata": {},
     "output_type": "execute_result"
    }
   ],
   "source": [
    "s.lstrip()"
   ]
  },
  {
   "cell_type": "code",
   "execution_count": 39,
   "id": "91607420",
   "metadata": {},
   "outputs": [
    {
     "data": {
      "text/plain": [
       "'    what a    class'"
      ]
     },
     "execution_count": 39,
     "metadata": {},
     "output_type": "execute_result"
    }
   ],
   "source": [
    "s.rstrip()"
   ]
  },
  {
   "cell_type": "code",
   "execution_count": null,
   "id": "997516d5",
   "metadata": {},
   "outputs": [],
   "source": []
  },
  {
   "cell_type": "code",
   "execution_count": null,
   "id": "df8840b9",
   "metadata": {},
   "outputs": [],
   "source": [
    "9.  Replace a string charecter by another charector by taking your own example \n",
    "\"sudhanshu\""
   ]
  },
  {
   "cell_type": "code",
   "execution_count": 40,
   "id": "dfa955d4",
   "metadata": {},
   "outputs": [],
   "source": [
    "s=\"what a class\""
   ]
  },
  {
   "cell_type": "code",
   "execution_count": 41,
   "id": "3bb1ab4d",
   "metadata": {},
   "outputs": [
    {
     "data": {
      "text/plain": [
       "'wh@t @ cl@ss'"
      ]
     },
     "execution_count": 41,
     "metadata": {},
     "output_type": "execute_result"
    }
   ],
   "source": [
    "s.replace('a','@')"
   ]
  },
  {
   "cell_type": "code",
   "execution_count": null,
   "id": "4473ca2c",
   "metadata": {},
   "outputs": [],
   "source": []
  },
  {
   "cell_type": "code",
   "execution_count": null,
   "id": "670afe1e",
   "metadata": {},
   "outputs": [],
   "source": [
    "10 . Try  to give a defination of string center function with and exmple "
   ]
  },
  {
   "cell_type": "code",
   "execution_count": null,
   "id": "55904371",
   "metadata": {},
   "outputs": [],
   "source": [
    "center() function will return the string in the center of the given width, it has 2 arguments width and fillcharecter"
   ]
  },
  {
   "cell_type": "code",
   "execution_count": 42,
   "id": "3988a06e",
   "metadata": {},
   "outputs": [],
   "source": [
    "s='Thanks'"
   ]
  },
  {
   "cell_type": "code",
   "execution_count": 43,
   "id": "dcc523ea",
   "metadata": {},
   "outputs": [
    {
     "data": {
      "text/plain": [
       "'       Thanks       '"
      ]
     },
     "execution_count": 43,
     "metadata": {},
     "output_type": "execute_result"
    }
   ],
   "source": [
    "s.center(20)"
   ]
  },
  {
   "cell_type": "code",
   "execution_count": 44,
   "id": "672aad3a",
   "metadata": {},
   "outputs": [
    {
     "data": {
      "text/plain": [
       "'!!!!!!!Thanks!!!!!!!'"
      ]
     },
     "execution_count": 44,
     "metadata": {},
     "output_type": "execute_result"
    }
   ],
   "source": [
    "s.center(20,\"!\")"
   ]
  },
  {
   "cell_type": "code",
   "execution_count": null,
   "id": "9da306bf",
   "metadata": {},
   "outputs": [],
   "source": []
  },
  {
   "cell_type": "code",
   "execution_count": null,
   "id": "82ed0e46",
   "metadata": {},
   "outputs": [],
   "source": [
    "11 . Write your own definition of compiler and interpretor without copy paste form internet in your own language"
   ]
  },
  {
   "cell_type": "code",
   "execution_count": null,
   "id": "b479890b",
   "metadata": {},
   "outputs": [],
   "source": [
    "compilert and interpretor both are translating the program in to machine language. compiler will translate one statement in a program at atime; interpretor will translate the entire program at a time."
   ]
  },
  {
   "cell_type": "code",
   "execution_count": null,
   "id": "ddbdad8e",
   "metadata": {},
   "outputs": [],
   "source": []
  },
  {
   "cell_type": "code",
   "execution_count": null,
   "id": "1b61edce",
   "metadata": {},
   "outputs": [],
   "source": [
    "12 . Python is a interpreted of compiled language give a clear ans with your understanding "
   ]
  },
  {
   "cell_type": "code",
   "execution_count": null,
   "id": "78b18066",
   "metadata": {},
   "outputs": [],
   "source": [
    "Python is the compiled and  interpretted language. It is compiling the statements one by one in background."
   ]
  },
  {
   "cell_type": "code",
   "execution_count": null,
   "id": "d65a79f6",
   "metadata": {},
   "outputs": [],
   "source": []
  },
  {
   "cell_type": "code",
   "execution_count": null,
   "id": "eff08dd8",
   "metadata": {},
   "outputs": [],
   "source": [
    "13 . Try to write a usecase of python with your understanding"
   ]
  },
  {
   "cell_type": "code",
   "execution_count": null,
   "id": "e4c9c55f",
   "metadata": {},
   "outputs": [],
   "source": [
    "use case: AI, ML, web development, game development, Audio Video application, CAD Applications, Embedded applications."
   ]
  }
 ],
 "metadata": {
  "kernelspec": {
   "display_name": "Python 3 (ipykernel)",
   "language": "python",
   "name": "python3"
  },
  "language_info": {
   "codemirror_mode": {
    "name": "ipython",
    "version": 3
   },
   "file_extension": ".py",
   "mimetype": "text/x-python",
   "name": "python",
   "nbconvert_exporter": "python",
   "pygments_lexer": "ipython3",
   "version": "3.9.7"
  }
 },
 "nbformat": 4,
 "nbformat_minor": 5
}
