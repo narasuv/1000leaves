{
 "cells": [
  {
   "cell_type": "code",
   "execution_count": null,
   "id": "24f81b78",
   "metadata": {},
   "outputs": [],
   "source": [
    "if and for loops\n",
    "here {} will not come in like C++ and other languages\n",
    "mind propper indentdation :"
   ]
  },
  {
   "cell_type": "code",
   "execution_count": 1,
   "id": "69337136",
   "metadata": {},
   "outputs": [
    {
     "name": "stdout",
     "output_type": "stream",
     "text": [
      "this is my first condition\n"
     ]
    }
   ],
   "source": [
    "a=10\n",
    "if a==10:\n",
    "    print(\"this is my first condition\")"
   ]
  },
  {
   "cell_type": "code",
   "execution_count": 2,
   "id": "bd5799f1",
   "metadata": {},
   "outputs": [],
   "source": [
    "a=10\n",
    "if a==11:\n",
    "    print(\"this is my first condition\")"
   ]
  },
  {
   "cell_type": "code",
   "execution_count": null,
   "id": "4b573a1e",
   "metadata": {},
   "outputs": [],
   "source": []
  },
  {
   "cell_type": "code",
   "execution_count": 5,
   "id": "84645e4b",
   "metadata": {},
   "outputs": [
    {
     "ename": "IndentationError",
     "evalue": "expected an indented block (Temp/ipykernel_4744/3214308656.py, line 2)",
     "output_type": "error",
     "traceback": [
      "\u001b[1;36m  File \u001b[1;32m\"C:\\Users\\NARASI~1\\AppData\\Local\\Temp/ipykernel_4744/3214308656.py\"\u001b[1;36m, line \u001b[1;32m2\u001b[0m\n\u001b[1;33m    if a>5:\u001b[0m\n\u001b[1;37m           ^\u001b[0m\n\u001b[1;31mIndentationError\u001b[0m\u001b[1;31m:\u001b[0m expected an indented block\n"
     ]
    }
   ],
   "source": [
    "a=10\n",
    "if a>5:"
   ]
  },
  {
   "cell_type": "code",
   "execution_count": 4,
   "id": "51f37e0c",
   "metadata": {},
   "outputs": [],
   "source": [
    "a=10\n",
    "if a>5:\n",
    "    pass"
   ]
  },
  {
   "cell_type": "code",
   "execution_count": null,
   "id": "0faf2521",
   "metadata": {},
   "outputs": [],
   "source": []
  },
  {
   "cell_type": "code",
   "execution_count": null,
   "id": "807ae85d",
   "metadata": {},
   "outputs": [],
   "source": [
    "pass is -> like it will not write anything"
   ]
  },
  {
   "cell_type": "code",
   "execution_count": 6,
   "id": "e029f1ab",
   "metadata": {},
   "outputs": [],
   "source": [
    "a=10\n",
    "if a<8:\n",
    "    print(\"print if condition is true\")"
   ]
  },
  {
   "cell_type": "code",
   "execution_count": 7,
   "id": "cabcfb25",
   "metadata": {},
   "outputs": [
    {
     "ename": "SyntaxError",
     "evalue": "invalid syntax (Temp/ipykernel_4744/3520169992.py, line 4)",
     "output_type": "error",
     "traceback": [
      "\u001b[1;36m  File \u001b[1;32m\"C:\\Users\\NARASI~1\\AppData\\Local\\Temp/ipykernel_4744/3520169992.py\"\u001b[1;36m, line \u001b[1;32m4\u001b[0m\n\u001b[1;33m    else:\u001b[0m\n\u001b[1;37m    ^\u001b[0m\n\u001b[1;31mSyntaxError\u001b[0m\u001b[1;31m:\u001b[0m invalid syntax\n"
     ]
    }
   ],
   "source": [
    "a=10\n",
    "if a !=11:\n",
    "    print(\"my condition is true\")\n",
    "    else:\n",
    "        print(\"print this\")"
   ]
  },
  {
   "cell_type": "code",
   "execution_count": 12,
   "id": "3e0dc26f",
   "metadata": {},
   "outputs": [
    {
     "name": "stdout",
     "output_type": "stream",
     "text": [
      "print this\n"
     ]
    }
   ],
   "source": [
    "a=10\n",
    "if a==11:\n",
    "    print(\"my condition is false\")\n",
    "else:\n",
    "        print(\"print this\")"
   ]
  },
  {
   "cell_type": "code",
   "execution_count": 13,
   "id": "d41b7bed",
   "metadata": {},
   "outputs": [
    {
     "name": "stdout",
     "output_type": "stream",
     "text": [
      "if all the blocks will fail then do this\n"
     ]
    }
   ],
   "source": [
    "a=10\n",
    "if a==12:\n",
    "    print(\"here we are try to compare 10 with 12\")\n",
    "elif a==11:\n",
    "    print(\"we are trying to compare 10 with 11\")\n",
    "else:\n",
    "    print(\"if all the blocks will fail then do this\")"
   ]
  },
  {
   "cell_type": "code",
   "execution_count": null,
   "id": "52cb2493",
   "metadata": {},
   "outputs": [],
   "source": [
    "indentdation error may occure frequently for the beginners"
   ]
  },
  {
   "cell_type": "code",
   "execution_count": 14,
   "id": "30ff4474",
   "metadata": {},
   "outputs": [
    {
     "name": "stdout",
     "output_type": "stream",
     "text": [
      "we are trying to compare 10 with 11\n"
     ]
    }
   ],
   "source": [
    "a=10\n",
    "if a==12:\n",
    "    print(\"here we are try to compare 10 with 12\")\n",
    "elif a==10:\n",
    "    print(\"we are trying to compare 10 with 11\")\n",
    "else:\n",
    "    print(\"if all the blocks will fail then do this\")"
   ]
  },
  {
   "cell_type": "code",
   "execution_count": 15,
   "id": "37052438",
   "metadata": {},
   "outputs": [],
   "source": [
    "price=500\n",
    "if price>500:\n",
    "    print(\"may be i wont be able to buy a jacket\")\n",
    "elif price<500:\n",
    "    print(\"i will be able to buy a jacket\")\n"
   ]
  },
  {
   "cell_type": "code",
   "execution_count": null,
   "id": "e9a06a03",
   "metadata": {},
   "outputs": [],
   "source": []
  },
  {
   "cell_type": "code",
   "execution_count": 16,
   "id": "48d58ae1",
   "metadata": {},
   "outputs": [
    {
     "name": "stdout",
     "output_type": "stream",
     "text": [
      "i will be able to buy a jacket\n"
     ]
    }
   ],
   "source": [
    "price=500\n",
    "if price>500:\n",
    "    print(\"may be i wont be able to buy a jacket\")\n",
    "elif price<=500:\n",
    "    print(\"i will be able to buy a jacket\")"
   ]
  },
  {
   "cell_type": "code",
   "execution_count": 17,
   "id": "c422d8f4",
   "metadata": {},
   "outputs": [
    {
     "ename": "SyntaxError",
     "evalue": "invalid syntax (Temp/ipykernel_4744/3115145813.py, line 6)",
     "output_type": "error",
     "traceback": [
      "\u001b[1;36m  File \u001b[1;32m\"C:\\Users\\NARASI~1\\AppData\\Local\\Temp/ipykernel_4744/3115145813.py\"\u001b[1;36m, line \u001b[1;32m6\u001b[0m\n\u001b[1;33m    else price==500:\u001b[0m\n\u001b[1;37m         ^\u001b[0m\n\u001b[1;31mSyntaxError\u001b[0m\u001b[1;31m:\u001b[0m invalid syntax\n"
     ]
    }
   ],
   "source": [
    "price=500\n",
    "if price>500:\n",
    "    print(\"may be i wont be able to buy a jacket\")\n",
    "elif price<=500:\n",
    "    print(\"i will be able to buy a jacket\")\n",
    "else price==500:\n",
    "    print (\"i dont know\")\n"
   ]
  },
  {
   "cell_type": "code",
   "execution_count": 18,
   "id": "6368fd3e",
   "metadata": {},
   "outputs": [
    {
     "ename": "SyntaxError",
     "evalue": "invalid syntax (Temp/ipykernel_4744/562673127.py, line 6)",
     "output_type": "error",
     "traceback": [
      "\u001b[1;36m  File \u001b[1;32m\"C:\\Users\\NARASI~1\\AppData\\Local\\Temp/ipykernel_4744/562673127.py\"\u001b[1;36m, line \u001b[1;32m6\u001b[0m\n\u001b[1;33m    else price==500:\u001b[0m\n\u001b[1;37m         ^\u001b[0m\n\u001b[1;31mSyntaxError\u001b[0m\u001b[1;31m:\u001b[0m invalid syntax\n"
     ]
    }
   ],
   "source": [
    "rice=500\n",
    "if price>500:\n",
    "    print(\"may be i wont be able to buy a jacket\")\n",
    "elif price<=500:\n",
    "    print(\"i will be able to buy a jacket\")\n",
    "elif price==500:\n",
    "    print(\"i dont know\")\n",
    "else"
   ]
  },
  {
   "cell_type": "code",
   "execution_count": 19,
   "id": "5a4cd7c1",
   "metadata": {},
   "outputs": [],
   "source": [
    "l=[1,2,3,4,5,6]"
   ]
  },
  {
   "cell_type": "code",
   "execution_count": 22,
   "id": "961ebc64",
   "metadata": {},
   "outputs": [
    {
     "ename": "SyntaxError",
     "evalue": "invalid syntax (Temp/ipykernel_4744/1743172396.py, line 1)",
     "output_type": "error",
     "traceback": [
      "\u001b[1;36m  File \u001b[1;32m\"C:\\Users\\NARASI~1\\AppData\\Local\\Temp/ipykernel_4744/1743172396.py\"\u001b[1;36m, line \u001b[1;32m1\u001b[0m\n\u001b[1;33m    if 60 in l\u001b[0m\n\u001b[1;37m              ^\u001b[0m\n\u001b[1;31mSyntaxError\u001b[0m\u001b[1;31m:\u001b[0m invalid syntax\n"
     ]
    }
   ],
   "source": [
    "if 60 in l"
   ]
  },
  {
   "cell_type": "code",
   "execution_count": 23,
   "id": "ba1bf443",
   "metadata": {},
   "outputs": [
    {
     "data": {
      "text/plain": [
       "[1, 2, 3, 4, 5, 6]"
      ]
     },
     "execution_count": 23,
     "metadata": {},
     "output_type": "execute_result"
    }
   ],
   "source": [
    "l"
   ]
  },
  {
   "cell_type": "code",
   "execution_count": 24,
   "id": "f8be2006",
   "metadata": {},
   "outputs": [
    {
     "name": "stdout",
     "output_type": "stream",
     "text": [
      "try to do sub\n",
      "this is new statement\n"
     ]
    }
   ],
   "source": [
    "if 10 in l:\n",
    "    print(\"try to do a addition\")\n",
    "elif 2 in l:\n",
    "    print(\"try to do sub\")\n",
    "elif 3 in l:\n",
    "    print(\"try to do mul\")\n",
    "if 4 in l:\n",
    "    print(\"this is new statement\")"
   ]
  },
  {
   "cell_type": "code",
   "execution_count": null,
   "id": "3445bfcf",
   "metadata": {},
   "outputs": [],
   "source": [
    "a=400"
   ]
  },
  {
   "cell_type": "markdown",
   "id": "4e12b1c7",
   "metadata": {},
   "source": [
    "35"
   ]
  },
  {
   "cell_type": "code",
   "execution_count": 27,
   "id": "2e1de81f",
   "metadata": {},
   "outputs": [
    {
     "data": {
      "text/plain": [
       "str"
      ]
     },
     "execution_count": 27,
     "metadata": {},
     "output_type": "execute_result"
    }
   ],
   "source": [
    "type(b)"
   ]
  },
  {
   "cell_type": "code",
   "execution_count": 28,
   "id": "99998849",
   "metadata": {},
   "outputs": [
    {
     "name": "stdout",
     "output_type": "stream",
     "text": [
      "490\n",
      "i will be able to buy something\n",
      "i wont be able to buy anything\n"
     ]
    }
   ],
   "source": [
    "price=int(input())\n",
    "if price <500:\n",
    "    print(\"i will be able to buy something\")\n",
    "    if price<400:\n",
    "        print(\"I will bew buy a jacket\")\n",
    "    elif price<300:\n",
    "        \n",
    "        print(\"i will be able to buy a shirt\")\n",
    "    else:\n",
    "        print(\"i wont be able to buy anything\")\n",
    "else:\n",
    "    print(\"i wont be buy anything by this price tag\")"
   ]
  },
  {
   "cell_type": "code",
   "execution_count": 29,
   "id": "1aa68b11",
   "metadata": {},
   "outputs": [
    {
     "name": "stdout",
     "output_type": "stream",
     "text": [
      "300\n",
      "i will be able to buy something\n",
      "I will bew buy a jacket\n"
     ]
    }
   ],
   "source": [
    "price=int(input())\n",
    "if price <500:\n",
    "    print(\"i will be able to buy something\")\n",
    "    if price<400:\n",
    "        print(\"I will bew buy a jacket\")\n",
    "    elif price<300:\n",
    "        \n",
    "        print(\"i will be able to buy a shirt\")\n",
    "    else:\n",
    "        print(\"i wont be able to buy anything\")\n",
    "else:\n",
    "    print(\"i wont be buy anything by this price tag\")"
   ]
  },
  {
   "cell_type": "code",
   "execution_count": 30,
   "id": "3c379806",
   "metadata": {},
   "outputs": [
    {
     "name": "stdout",
     "output_type": "stream",
     "text": [
      "370\n",
      "i will be able to buy something\n",
      "I will bew buy a jacket\n"
     ]
    }
   ],
   "source": [
    "price=int(input())\n",
    "if price <500:\n",
    "    print(\"i will be able to buy something\")\n",
    "    if price<400:\n",
    "        print(\"I will bew buy a jacket\")\n",
    "    elif price<300:\n",
    "        \n",
    "        print(\"i will be able to buy a shirt\")\n",
    "    else:\n",
    "        print(\"i wont be able to buy anything\")\n",
    "else:\n",
    "    print(\"i wont be buy anything by this price tag\")"
   ]
  },
  {
   "cell_type": "code",
   "execution_count": 31,
   "id": "73c7a37b",
   "metadata": {},
   "outputs": [
    {
     "name": "stdout",
     "output_type": "stream",
     "text": [
      "600\n",
      "i wont be buy anything by this price tag\n",
      "lets try something else\n"
     ]
    }
   ],
   "source": [
    "price=int(input())\n",
    "if price <500:\n",
    "    print(\"i will be able to buy something\")\n",
    "    if price<400:\n",
    "        print(\"I will bew buy a jacket\")\n",
    "    elif price<300:\n",
    "        \n",
    "        print(\"i will be able to buy a shirt\")\n",
    "        if price<200:\n",
    "            print(\"i would like to buy some thing\")\n",
    "    else:\n",
    "        print(\"i wont be able to buy anything\")\n",
    "else:\n",
    "    print(\"i wont be buy anything by this price tag\")\n",
    "    if price>500:\n",
    "        print(\"lets try something else\")"
   ]
  },
  {
   "cell_type": "code",
   "execution_count": 32,
   "id": "59e853cb",
   "metadata": {},
   "outputs": [
    {
     "name": "stdout",
     "output_type": "stream",
     "text": [
      "450\n",
      "no gre\n",
      "tofel\n"
     ]
    }
   ],
   "source": [
    "marks=int(input())\n",
    "if marks<600:\n",
    "    print(\"no gre\")\n",
    "    if marks<500:\n",
    "        print(\"tofel\")\n",
    "        if marks<400:\n",
    "            print(\"try something else\")\n",
    "    else:\n",
    "        print(\"you got tofel\")\n",
    "else:\n",
    "    print(\"you got gre congrats\")"
   ]
  },
  {
   "cell_type": "code",
   "execution_count": 43,
   "id": "4bab4f9b",
   "metadata": {},
   "outputs": [
    {
     "name": "stdout",
     "output_type": "stream",
     "text": [
      "enter a floating point number456\n",
      "entered val is positive num\n"
     ]
    }
   ],
   "source": [
    "val =float(input(\"enter a floating point number\"))\n",
    "if val>=0:\n",
    "    if val==0:\n",
    "        print(\"enetered value is zero\")\n",
    "    else:\n",
    "        print(\"entered val is positive num\")\n",
    "else:\n",
    "    print(\"entered number is a negative number\")"
   ]
  },
  {
   "cell_type": "code",
   "execution_count": 46,
   "id": "aa75b84c",
   "metadata": {},
   "outputs": [
    {
     "name": "stdout",
     "output_type": "stream",
     "text": [
      "enter a floating point number0\n",
      "enetered value is zero\n"
     ]
    }
   ],
   "source": [
    "val =float(input(\"enter a floating point number\"))\n",
    "if val>=0:\n",
    "    if val==0:\n",
    "        print(\"enetered value is zero\")\n",
    "    else:\n",
    "        print(\"entered val is positive num\")\n",
    "else:\n",
    "    print(\"entered number is a negative number\")"
   ]
  },
  {
   "cell_type": "code",
   "execution_count": 47,
   "id": "027c4150",
   "metadata": {},
   "outputs": [
    {
     "name": "stdout",
     "output_type": "stream",
     "text": [
      "try to do something\n"
     ]
    }
   ],
   "source": [
    "a=10\n",
    "if a<10 or a==10:\n",
    "    print(\"try to do something\")"
   ]
  },
  {
   "cell_type": "code",
   "execution_count": 48,
   "id": "7ac5d518",
   "metadata": {},
   "outputs": [],
   "source": [
    "a=10\n",
    "if a<10 and a==10:\n",
    "    print(\"try to do something\")"
   ]
  },
  {
   "cell_type": "code",
   "execution_count": 49,
   "id": "54923bb7",
   "metadata": {},
   "outputs": [
    {
     "name": "stdout",
     "output_type": "stream",
     "text": [
      "this is sudh\n"
     ]
    }
   ],
   "source": [
    "a=\"sudh\"\n",
    "if a==\"sudh\" and a==\"sudh\":\n",
    "    print(\"this is sudh\")"
   ]
  },
  {
   "cell_type": "code",
   "execution_count": 50,
   "id": "721964a5",
   "metadata": {},
   "outputs": [],
   "source": [
    "a=\"sudh\"\n",
    "if a==\"sudh\" and a==\"Sudh\":\n",
    "    print(\"this is sudh\")"
   ]
  },
  {
   "cell_type": "code",
   "execution_count": 51,
   "id": "73643abd",
   "metadata": {},
   "outputs": [
    {
     "name": "stdout",
     "output_type": "stream",
     "text": [
      "this is sudh\n"
     ]
    }
   ],
   "source": [
    "a=\"sudh\"\n",
    "if a==\"sudh\" or a==\"Sudh\":\n",
    "    print(\"this is sudh\")"
   ]
  },
  {
   "cell_type": "code",
   "execution_count": 52,
   "id": "458ffb83",
   "metadata": {},
   "outputs": [],
   "source": [
    "a=10\n",
    "b=11\n",
    "c=12\n",
    "d=13\n",
    "if a==9 and b==11 and c==12 and d==13:\n",
    "    print(\"lets do something\")"
   ]
  },
  {
   "cell_type": "code",
   "execution_count": 53,
   "id": "caae3ed1",
   "metadata": {},
   "outputs": [
    {
     "name": "stdout",
     "output_type": "stream",
     "text": [
      "lets do something\n"
     ]
    }
   ],
   "source": [
    "a=10\n",
    "b=11\n",
    "c=12\n",
    "d=13\n",
    "if a==9 or b==11 and c==12 and d==13:\n",
    "    print(\"lets do something\")"
   ]
  },
  {
   "cell_type": "code",
   "execution_count": 54,
   "id": "5296c02a",
   "metadata": {},
   "outputs": [],
   "source": [
    "d={'key1':\"value\",\"key2\":\"sudh\",'key3':\"iNeuron\"}"
   ]
  },
  {
   "cell_type": "code",
   "execution_count": 55,
   "id": "943db632",
   "metadata": {},
   "outputs": [
    {
     "name": "stdout",
     "output_type": "stream",
     "text": [
      "all the values are not verified\n"
     ]
    }
   ],
   "source": [
    "if d['key1']==\"value\" and d['key2']==\"Sudh\" and d[key3]==\"iNeuron\":\n",
    "    print(\"all the value are verified\")\n",
    "    print(d.values())\n",
    "else:\n",
    "    print(\"all the values are not verified\")"
   ]
  },
  {
   "cell_type": "code",
   "execution_count": 56,
   "id": "5486010f",
   "metadata": {},
   "outputs": [
    {
     "data": {
      "text/plain": [
       "'value'"
      ]
     },
     "execution_count": 56,
     "metadata": {},
     "output_type": "execute_result"
    }
   ],
   "source": [
    "d[\"key1\"]"
   ]
  },
  {
   "cell_type": "code",
   "execution_count": 57,
   "id": "b9375e57",
   "metadata": {},
   "outputs": [
    {
     "data": {
      "text/plain": [
       "[1, 2, 3, 4, 5, 6]"
      ]
     },
     "execution_count": 57,
     "metadata": {},
     "output_type": "execute_result"
    }
   ],
   "source": [
    "l"
   ]
  },
  {
   "cell_type": "code",
   "execution_count": 59,
   "id": "0f733228",
   "metadata": {},
   "outputs": [
    {
     "data": {
      "text/plain": [
       "3"
      ]
     },
     "execution_count": 59,
     "metadata": {},
     "output_type": "execute_result"
    }
   ],
   "source": [
    "l[2]"
   ]
  },
  {
   "cell_type": "code",
   "execution_count": 60,
   "id": "2722dce2",
   "metadata": {},
   "outputs": [
    {
     "data": {
      "text/plain": [
       "[3]"
      ]
     },
     "execution_count": 60,
     "metadata": {},
     "output_type": "execute_result"
    }
   ],
   "source": [
    "l[2:3]"
   ]
  },
  {
   "cell_type": "code",
   "execution_count": null,
   "id": "4e828a23",
   "metadata": {},
   "outputs": [],
   "source": []
  },
  {
   "cell_type": "code",
   "execution_count": null,
   "id": "ada829b6",
   "metadata": {},
   "outputs": [],
   "source": [
    "loop"
   ]
  },
  {
   "cell_type": "code",
   "execution_count": null,
   "id": "28e08814",
   "metadata": {},
   "outputs": [],
   "source": [
    "for loop"
   ]
  },
  {
   "cell_type": "code",
   "execution_count": null,
   "id": "7fad2413",
   "metadata": {},
   "outputs": [],
   "source": [
    "while loop"
   ]
  },
  {
   "cell_type": "code",
   "execution_count": null,
   "id": "65518da5",
   "metadata": {},
   "outputs": [],
   "source": [
    "iterable, iterator"
   ]
  },
  {
   "cell_type": "code",
   "execution_count": 61,
   "id": "74a78a7a",
   "metadata": {},
   "outputs": [
    {
     "data": {
      "text/plain": [
       "[1, 2, 3, 4, 5, 6]"
      ]
     },
     "execution_count": 61,
     "metadata": {},
     "output_type": "execute_result"
    }
   ],
   "source": [
    "l"
   ]
  },
  {
   "cell_type": "code",
   "execution_count": 62,
   "id": "1b3bf02f",
   "metadata": {},
   "outputs": [
    {
     "name": "stdout",
     "output_type": "stream",
     "text": [
      "1\n",
      "2\n",
      "3\n",
      "4\n",
      "5\n",
      "6\n"
     ]
    }
   ],
   "source": [
    "for i in l:\n",
    "    print(i)"
   ]
  },
  {
   "cell_type": "code",
   "execution_count": 63,
   "id": "1854a937",
   "metadata": {},
   "outputs": [
    {
     "name": "stdout",
     "output_type": "stream",
     "text": [
      "2\n",
      "3\n",
      "4\n",
      "5\n",
      "6\n",
      "7\n"
     ]
    }
   ],
   "source": [
    "for i in l:\n",
    "    print(i+1)"
   ]
  },
  {
   "cell_type": "code",
   "execution_count": 64,
   "id": "86e78e99",
   "metadata": {},
   "outputs": [
    {
     "data": {
      "text/plain": [
       "[1, 2, 3, 4, 5, 6]"
      ]
     },
     "execution_count": 64,
     "metadata": {},
     "output_type": "execute_result"
    }
   ],
   "source": [
    "l"
   ]
  },
  {
   "cell_type": "code",
   "execution_count": 65,
   "id": "8b35ab4d",
   "metadata": {},
   "outputs": [],
   "source": [
    "l=[1,2,3,4,5,6,\"sudh\",7]"
   ]
  },
  {
   "cell_type": "code",
   "execution_count": 66,
   "id": "6bea5124",
   "metadata": {},
   "outputs": [
    {
     "name": "stdout",
     "output_type": "stream",
     "text": [
      "2\n",
      "3\n",
      "4\n",
      "5\n",
      "6\n",
      "7\n"
     ]
    },
    {
     "ename": "TypeError",
     "evalue": "can only concatenate str (not \"int\") to str",
     "output_type": "error",
     "traceback": [
      "\u001b[1;31m---------------------------------------------------------------------------\u001b[0m",
      "\u001b[1;31mTypeError\u001b[0m                                 Traceback (most recent call last)",
      "\u001b[1;32mC:\\Users\\NARASI~1\\AppData\\Local\\Temp/ipykernel_4744/949430040.py\u001b[0m in \u001b[0;36m<module>\u001b[1;34m\u001b[0m\n\u001b[0;32m      1\u001b[0m \u001b[1;32mfor\u001b[0m \u001b[0mi\u001b[0m \u001b[1;32min\u001b[0m \u001b[0ml\u001b[0m\u001b[1;33m:\u001b[0m\u001b[1;33m\u001b[0m\u001b[1;33m\u001b[0m\u001b[0m\n\u001b[1;32m----> 2\u001b[1;33m     \u001b[0mprint\u001b[0m\u001b[1;33m(\u001b[0m\u001b[0mi\u001b[0m\u001b[1;33m+\u001b[0m\u001b[1;36m1\u001b[0m\u001b[1;33m)\u001b[0m\u001b[1;33m\u001b[0m\u001b[1;33m\u001b[0m\u001b[0m\n\u001b[0m",
      "\u001b[1;31mTypeError\u001b[0m: can only concatenate str (not \"int\") to str"
     ]
    }
   ],
   "source": [
    "for i in l:\n",
    "    print(i+1)"
   ]
  },
  {
   "cell_type": "code",
   "execution_count": 67,
   "id": "a3ac5334",
   "metadata": {},
   "outputs": [
    {
     "name": "stdout",
     "output_type": "stream",
     "text": [
      "2\n",
      "3\n",
      "4\n",
      "5\n",
      "6\n",
      "7\n",
      "sudh1\n",
      "8\n"
     ]
    }
   ],
   "source": [
    "for i in l:\n",
    "    if type(i)==int:\n",
    "        print(i+1)\n",
    "    elif type(i)==str:\n",
    "        print(i+str(1))\n"
   ]
  },
  {
   "cell_type": "code",
   "execution_count": null,
   "id": "1b3c7e01",
   "metadata": {},
   "outputs": [],
   "source": [
    "i is a local variable, it can be any"
   ]
  },
  {
   "cell_type": "code",
   "execution_count": 68,
   "id": "2df08f9a",
   "metadata": {},
   "outputs": [
    {
     "data": {
      "text/plain": [
       "[1, 2, 3, 4, 5, 6, 'sudh', 7]"
      ]
     },
     "execution_count": 68,
     "metadata": {},
     "output_type": "execute_result"
    }
   ],
   "source": [
    "l"
   ]
  },
  {
   "cell_type": "code",
   "execution_count": 71,
   "id": "517cf036",
   "metadata": {},
   "outputs": [
    {
     "name": "stdout",
     "output_type": "stream",
     "text": [
      "2\n",
      "3\n",
      "4\n",
      "5\n",
      "6\n",
      "7\n",
      "8\n"
     ]
    }
   ],
   "source": [
    "for i in l:\n",
    "    if type(i)==int or type(i)==float:\n",
    "        print(i+1)"
   ]
  },
  {
   "cell_type": "code",
   "execution_count": null,
   "id": "9bc5644a",
   "metadata": {},
   "outputs": [],
   "source": [
    "20% code 80% debugging"
   ]
  },
  {
   "cell_type": "code",
   "execution_count": 74,
   "id": "8854b90f",
   "metadata": {},
   "outputs": [
    {
     "name": "stdout",
     "output_type": "stream",
     "text": [
      "2\n",
      "3\n",
      "4\n",
      "5\n",
      "CK1\n",
      "6\n",
      "2022.6\n"
     ]
    }
   ],
   "source": [
    "l=[1,2,3,4,\"CK\",5,2021.6]\n",
    "for i in l:\n",
    "    if type(i)==str:\n",
    "        print(i+str(1))\n",
    "    else:\n",
    "        print(i+1)\n",
    "    "
   ]
  },
  {
   "cell_type": "code",
   "execution_count": null,
   "id": "3a1e06c5",
   "metadata": {},
   "outputs": [],
   "source": []
  }
 ],
 "metadata": {
  "kernelspec": {
   "display_name": "Python 3 (ipykernel)",
   "language": "python",
   "name": "python3"
  },
  "language_info": {
   "codemirror_mode": {
    "name": "ipython",
    "version": 3
   },
   "file_extension": ".py",
   "mimetype": "text/x-python",
   "name": "python",
   "nbconvert_exporter": "python",
   "pygments_lexer": "ipython3",
   "version": "3.9.7"
  }
 },
 "nbformat": 4,
 "nbformat_minor": 5
}
