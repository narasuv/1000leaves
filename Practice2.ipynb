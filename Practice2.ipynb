{
 "cells": [
  {
   "cell_type": "code",
   "execution_count": 1,
   "id": "1439a383",
   "metadata": {},
   "outputs": [],
   "source": [
    "s = \"this is My First Python programming class and i am learNING python string and its function\""
   ]
  },
  {
   "cell_type": "code",
   "execution_count": 4,
   "id": "0a2dff46",
   "metadata": {},
   "outputs": [
    {
     "data": {
      "text/plain": [
       "'h   r tnrrmglsnimeNGyosi dtfco'"
      ]
     },
     "execution_count": 4,
     "metadata": {},
     "output_type": "execute_result"
    }
   ],
   "source": [
    "s[1:300:3]"
   ]
  },
  {
   "cell_type": "code",
   "execution_count": 5,
   "id": "74c843a2",
   "metadata": {},
   "outputs": [],
   "source": [
    "s=\"abcdef\""
   ]
  },
  {
   "cell_type": "code",
   "execution_count": 6,
   "id": "0221c260",
   "metadata": {},
   "outputs": [
    {
     "data": {
      "text/plain": [
       "'fedcba'"
      ]
     },
     "execution_count": 6,
     "metadata": {},
     "output_type": "execute_result"
    }
   ],
   "source": [
    "s[::-1]"
   ]
  },
  {
   "cell_type": "code",
   "execution_count": 7,
   "id": "e64a5f87",
   "metadata": {},
   "outputs": [
    {
     "data": {
      "text/plain": [
       "'ABCDEF'"
      ]
     },
     "execution_count": 7,
     "metadata": {},
     "output_type": "execute_result"
    }
   ],
   "source": [
    "s.upper()"
   ]
  },
  {
   "cell_type": "code",
   "execution_count": 8,
   "id": "b5001f18",
   "metadata": {},
   "outputs": [
    {
     "data": {
      "text/plain": [
       "['abcdef']"
      ]
     },
     "execution_count": 8,
     "metadata": {},
     "output_type": "execute_result"
    }
   ],
   "source": [
    "s.split()"
   ]
  },
  {
   "cell_type": "code",
   "execution_count": 19,
   "id": "41081c0a",
   "metadata": {},
   "outputs": [
    {
     "data": {
      "text/plain": [
       "['abcdef']"
      ]
     },
     "execution_count": 19,
     "metadata": {},
     "output_type": "execute_result"
    }
   ],
   "source": [
    "s.split(\"%\")"
   ]
  },
  {
   "cell_type": "code",
   "execution_count": 20,
   "id": "66b629b7",
   "metadata": {},
   "outputs": [],
   "source": [
    "s=\"a\\b\\c\\d\\e\\f\""
   ]
  },
  {
   "cell_type": "code",
   "execution_count": 25,
   "id": "46841bd7",
   "metadata": {},
   "outputs": [
    {
     "data": {
      "text/plain": [
       "['a', '\\\\c\\\\d\\\\e\\x0c']"
      ]
     },
     "execution_count": 25,
     "metadata": {},
     "output_type": "execute_result"
    }
   ],
   "source": [
    "s.split(\"\\b\")"
   ]
  },
  {
   "cell_type": "code",
   "execution_count": 26,
   "id": "914776f8",
   "metadata": {},
   "outputs": [],
   "source": [
    "s=\"need\\ttest\\tstring\""
   ]
  },
  {
   "cell_type": "code",
   "execution_count": 28,
   "id": "79f18fe5",
   "metadata": {},
   "outputs": [
    {
     "data": {
      "text/plain": [
       "['need', 'test', 'string']"
      ]
     },
     "execution_count": 28,
     "metadata": {},
     "output_type": "execute_result"
    }
   ],
   "source": [
    "s.split(\"\\t\")"
   ]
  },
  {
   "cell_type": "code",
   "execution_count": 29,
   "id": "52a69031",
   "metadata": {},
   "outputs": [
    {
     "data": {
      "text/plain": [
       "'NEED\\tTEST\\tSTRING'"
      ]
     },
     "execution_count": 29,
     "metadata": {},
     "output_type": "execute_result"
    }
   ],
   "source": [
    "s.upper()"
   ]
  },
  {
   "cell_type": "code",
   "execution_count": 30,
   "id": "6c728a95",
   "metadata": {},
   "outputs": [],
   "source": [
    "s=\"NNEEDD TO CHECK\""
   ]
  },
  {
   "cell_type": "code",
   "execution_count": 31,
   "id": "cca534f1",
   "metadata": {},
   "outputs": [
    {
     "data": {
      "text/plain": [
       "'nneedd to check'"
      ]
     },
     "execution_count": 31,
     "metadata": {},
     "output_type": "execute_result"
    }
   ],
   "source": [
    "s.lower()"
   ]
  },
  {
   "cell_type": "code",
   "execution_count": 32,
   "id": "2ce6a2ee",
   "metadata": {},
   "outputs": [],
   "source": [
    "s=\"abcdef\""
   ]
  },
  {
   "cell_type": "code",
   "execution_count": 33,
   "id": "c8d0f536",
   "metadata": {},
   "outputs": [
    {
     "data": {
      "text/plain": [
       "'Abcdef'"
      ]
     },
     "execution_count": 33,
     "metadata": {},
     "output_type": "execute_result"
    }
   ],
   "source": [
    "s.capitalize()"
   ]
  },
  {
   "cell_type": "code",
   "execution_count": 34,
   "id": "b1ba90ba",
   "metadata": {},
   "outputs": [],
   "source": [
    "s=\"abcd efg hijklmno\""
   ]
  },
  {
   "cell_type": "code",
   "execution_count": 35,
   "id": "f80b3f45",
   "metadata": {},
   "outputs": [
    {
     "data": {
      "text/plain": [
       "'Abcd efg hijklmno'"
      ]
     },
     "execution_count": 35,
     "metadata": {},
     "output_type": "execute_result"
    }
   ],
   "source": [
    "s.capitalize()"
   ]
  },
  {
   "cell_type": "code",
   "execution_count": 36,
   "id": "8af68fdb",
   "metadata": {},
   "outputs": [],
   "source": [
    "s=\"abcd efg. hijklmno\""
   ]
  },
  {
   "cell_type": "code",
   "execution_count": 37,
   "id": "075d1637",
   "metadata": {},
   "outputs": [
    {
     "data": {
      "text/plain": [
       "'Abcd efg. hijklmno'"
      ]
     },
     "execution_count": 37,
     "metadata": {},
     "output_type": "execute_result"
    }
   ],
   "source": [
    "s.capitalize()"
   ]
  },
  {
   "cell_type": "code",
   "execution_count": 38,
   "id": "7c323153",
   "metadata": {},
   "outputs": [],
   "source": [
    "s=\"need to check\""
   ]
  },
  {
   "cell_type": "code",
   "execution_count": 39,
   "id": "62b3f0b6",
   "metadata": {},
   "outputs": [
    {
     "data": {
      "text/plain": [
       "False"
      ]
     },
     "execution_count": 39,
     "metadata": {},
     "output_type": "execute_result"
    }
   ],
   "source": [
    "s.isalnum()"
   ]
  },
  {
   "cell_type": "code",
   "execution_count": 40,
   "id": "ed1f8fa3",
   "metadata": {},
   "outputs": [
    {
     "data": {
      "text/plain": [
       "False"
      ]
     },
     "execution_count": 40,
     "metadata": {},
     "output_type": "execute_result"
    }
   ],
   "source": [
    "s.isalpha()"
   ]
  },
  {
   "cell_type": "code",
   "execution_count": 41,
   "id": "f1bd1b15",
   "metadata": {},
   "outputs": [],
   "source": [
    "s=\"testfile\""
   ]
  },
  {
   "cell_type": "code",
   "execution_count": 42,
   "id": "77a1a0aa",
   "metadata": {},
   "outputs": [
    {
     "data": {
      "text/plain": [
       "True"
      ]
     },
     "execution_count": 42,
     "metadata": {},
     "output_type": "execute_result"
    }
   ],
   "source": [
    "s.isalnum()"
   ]
  },
  {
   "cell_type": "code",
   "execution_count": 43,
   "id": "6b3213a8",
   "metadata": {},
   "outputs": [
    {
     "data": {
      "text/plain": [
       "True"
      ]
     },
     "execution_count": 43,
     "metadata": {},
     "output_type": "execute_result"
    }
   ],
   "source": [
    "s.isalpha()"
   ]
  },
  {
   "cell_type": "code",
   "execution_count": 44,
   "id": "c3dc0e0e",
   "metadata": {},
   "outputs": [],
   "source": [
    "s=\"12345\""
   ]
  },
  {
   "cell_type": "code",
   "execution_count": 45,
   "id": "0274e29f",
   "metadata": {},
   "outputs": [
    {
     "data": {
      "text/plain": [
       "'12345'"
      ]
     },
     "execution_count": 45,
     "metadata": {},
     "output_type": "execute_result"
    }
   ],
   "source": [
    "s"
   ]
  },
  {
   "cell_type": "code",
   "execution_count": 46,
   "id": "7f32bf51",
   "metadata": {},
   "outputs": [
    {
     "data": {
      "text/plain": [
       "False"
      ]
     },
     "execution_count": 46,
     "metadata": {},
     "output_type": "execute_result"
    }
   ],
   "source": [
    "s.isalpha()"
   ]
  },
  {
   "cell_type": "code",
   "execution_count": 47,
   "id": "7c406498",
   "metadata": {},
   "outputs": [
    {
     "data": {
      "text/plain": [
       "True"
      ]
     },
     "execution_count": 47,
     "metadata": {},
     "output_type": "execute_result"
    }
   ],
   "source": [
    "s.isalnum()"
   ]
  },
  {
   "cell_type": "code",
   "execution_count": 49,
   "id": "41ccf467",
   "metadata": {},
   "outputs": [],
   "source": [
    "s=\"it\\tis\\tnice\""
   ]
  },
  {
   "cell_type": "code",
   "execution_count": 50,
   "id": "45e572f5",
   "metadata": {},
   "outputs": [
    {
     "data": {
      "text/plain": [
       "'it      is      nice'"
      ]
     },
     "execution_count": 50,
     "metadata": {},
     "output_type": "execute_result"
    }
   ],
   "source": [
    "s.expandtabs()"
   ]
  },
  {
   "cell_type": "code",
   "execution_count": 51,
   "id": "c625e98c",
   "metadata": {},
   "outputs": [
    {
     "data": {
      "text/plain": [
       "'it   is   nice'"
      ]
     },
     "execution_count": 51,
     "metadata": {},
     "output_type": "execute_result"
    }
   ],
   "source": [
    "s.expandtabs(5)"
   ]
  },
  {
   "cell_type": "code",
   "execution_count": 88,
   "id": "4af833ce",
   "metadata": {},
   "outputs": [],
   "source": [
    "s=\"    what a    class   \""
   ]
  },
  {
   "cell_type": "code",
   "execution_count": 60,
   "id": "e2b0160c",
   "metadata": {},
   "outputs": [
    {
     "data": {
      "text/plain": [
       "'what a    class'"
      ]
     },
     "execution_count": 60,
     "metadata": {},
     "output_type": "execute_result"
    }
   ],
   "source": [
    "s.strip()"
   ]
  },
  {
   "cell_type": "code",
   "execution_count": 62,
   "id": "69186559",
   "metadata": {},
   "outputs": [
    {
     "data": {
      "text/plain": [
       "'at a    class'"
      ]
     },
     "execution_count": 62,
     "metadata": {},
     "output_type": "execute_result"
    }
   ],
   "source": [
    "s.strip(' wh')"
   ]
  },
  {
   "cell_type": "code",
   "execution_count": 92,
   "id": "69192fbe",
   "metadata": {},
   "outputs": [
    {
     "data": {
      "text/plain": [
       "'at a    cla'"
      ]
     },
     "execution_count": 92,
     "metadata": {},
     "output_type": "execute_result"
    }
   ],
   "source": [
    "s.strip(' whs')"
   ]
  },
  {
   "cell_type": "code",
   "execution_count": 69,
   "id": "925bca21",
   "metadata": {},
   "outputs": [],
   "source": [
    "s=\"    what a    class   \""
   ]
  },
  {
   "cell_type": "code",
   "execution_count": 70,
   "id": "358508f8",
   "metadata": {},
   "outputs": [
    {
     "data": {
      "text/plain": [
       "'what a    class   '"
      ]
     },
     "execution_count": 70,
     "metadata": {},
     "output_type": "execute_result"
    }
   ],
   "source": [
    "s.lstrip()"
   ]
  },
  {
   "cell_type": "code",
   "execution_count": 71,
   "id": "68280927",
   "metadata": {},
   "outputs": [
    {
     "data": {
      "text/plain": [
       "'    what a    class'"
      ]
     },
     "execution_count": 71,
     "metadata": {},
     "output_type": "execute_result"
    }
   ],
   "source": [
    "s.rstrip()"
   ]
  },
  {
   "cell_type": "code",
   "execution_count": 73,
   "id": "6651dfc4",
   "metadata": {},
   "outputs": [
    {
     "data": {
      "text/plain": [
       "'what a    class   '"
      ]
     },
     "execution_count": 73,
     "metadata": {},
     "output_type": "execute_result"
    }
   ],
   "source": [
    "s.lstrip(' a')"
   ]
  },
  {
   "cell_type": "code",
   "execution_count": 74,
   "id": "89e09044",
   "metadata": {},
   "outputs": [
    {
     "data": {
      "text/plain": [
       "'hat a    class   '"
      ]
     },
     "execution_count": 74,
     "metadata": {},
     "output_type": "execute_result"
    }
   ],
   "source": [
    "s.lstrip(' w')"
   ]
  },
  {
   "cell_type": "code",
   "execution_count": 75,
   "id": "4c5b1e0f",
   "metadata": {},
   "outputs": [
    {
     "data": {
      "text/plain": [
       "'    what a    class'"
      ]
     },
     "execution_count": 75,
     "metadata": {},
     "output_type": "execute_result"
    }
   ],
   "source": [
    "s.rstrip(' w')"
   ]
  },
  {
   "cell_type": "code",
   "execution_count": 76,
   "id": "a192e606",
   "metadata": {},
   "outputs": [
    {
     "data": {
      "text/plain": [
       "'    what a    cla'"
      ]
     },
     "execution_count": 76,
     "metadata": {},
     "output_type": "execute_result"
    }
   ],
   "source": [
    "s.rstrip(' s')"
   ]
  },
  {
   "cell_type": "code",
   "execution_count": 78,
   "id": "917387bf",
   "metadata": {},
   "outputs": [
    {
     "data": {
      "text/plain": [
       "'    wh@t @    cl@ss   '"
      ]
     },
     "execution_count": 78,
     "metadata": {},
     "output_type": "execute_result"
    }
   ],
   "source": [
    "s.replace(\"a\",\"@\")"
   ]
  },
  {
   "cell_type": "code",
   "execution_count": 79,
   "id": "9993d820",
   "metadata": {},
   "outputs": [],
   "source": [
    "s=\"good food goose bump\""
   ]
  },
  {
   "cell_type": "code",
   "execution_count": 80,
   "id": "249b8aa9",
   "metadata": {},
   "outputs": [
    {
     "data": {
      "text/plain": [
       "'g@@d f@@d g@@se bump'"
      ]
     },
     "execution_count": 80,
     "metadata": {},
     "output_type": "execute_result"
    }
   ],
   "source": [
    "s.replace('o','@')"
   ]
  },
  {
   "cell_type": "code",
   "execution_count": 81,
   "id": "572ce10e",
   "metadata": {},
   "outputs": [],
   "source": [
    "s='Thanks'"
   ]
  },
  {
   "cell_type": "code",
   "execution_count": 83,
   "id": "478522f9",
   "metadata": {},
   "outputs": [
    {
     "data": {
      "text/plain": [
       "'       Thanks       '"
      ]
     },
     "execution_count": 83,
     "metadata": {},
     "output_type": "execute_result"
    }
   ],
   "source": [
    "s.center(20)"
   ]
  },
  {
   "cell_type": "code",
   "execution_count": 84,
   "id": "e86277e9",
   "metadata": {},
   "outputs": [
    {
     "data": {
      "text/plain": [
       "'!!!!!!!Thanks!!!!!!!'"
      ]
     },
     "execution_count": 84,
     "metadata": {},
     "output_type": "execute_result"
    }
   ],
   "source": [
    "s.center(20,\"!\")"
   ]
  },
  {
   "cell_type": "code",
   "execution_count": null,
   "id": "ed6a36b1",
   "metadata": {},
   "outputs": [],
   "source": [
    "center will return the string in the center of the given width, it has 2 arguments width and fillcharecter"
   ]
  },
  {
   "cell_type": "code",
   "execution_count": null,
   "id": "35638d43",
   "metadata": {},
   "outputs": [],
   "source": [
    "compilert and interpretor both are translating the program in to machine language. compiler will translate one statement in a program at atime; interpretor will translate the entire program at a time."
   ]
  },
  {
   "cell_type": "code",
   "execution_count": null,
   "id": "57fa258c",
   "metadata": {},
   "outputs": [],
   "source": [
    "Python is the compiled and  interpretted language"
   ]
  },
  {
   "cell_type": "code",
   "execution_count": null,
   "id": "fa76f4e9",
   "metadata": {},
   "outputs": [],
   "source": [
    "use case: AI, ML, web development, game development, Audio Video application, CAD Applications, Embedded applications"
   ]
  }
 ],
 "metadata": {
  "kernelspec": {
   "display_name": "Python 3 (ipykernel)",
   "language": "python",
   "name": "python3"
  },
  "language_info": {
   "codemirror_mode": {
    "name": "ipython",
    "version": 3
   },
   "file_extension": ".py",
   "mimetype": "text/x-python",
   "name": "python",
   "nbconvert_exporter": "python",
   "pygments_lexer": "ipython3",
   "version": "3.9.7"
  }
 },
 "nbformat": 4,
 "nbformat_minor": 5
}
